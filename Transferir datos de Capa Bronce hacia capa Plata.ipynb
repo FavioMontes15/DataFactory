{
 "cells": [
  {
   "cell_type": "code",
   "execution_count": 0,
   "metadata": {
    "application/vnd.databricks.v1+cell": {
     "cellMetadata": {
      "byteLimit": 2048000,
      "rowLimit": 10000
     },
     "inputWidgets": {},
     "nuid": "f9d44192-0c3c-424e-b079-3b8b543ed135",
     "showTitle": false,
     "title": ""
    }
   },
   "outputs": [
    {
     "output_type": "display_data",
     "data": {
      "text/html": [
       "<style scoped>\n",
       "  .ansiout {\n",
       "    display: block;\n",
       "    unicode-bidi: embed;\n",
       "    white-space: pre-wrap;\n",
       "    word-wrap: break-word;\n",
       "    word-break: break-all;\n",
       "    font-family: \"Menlo\", \"Monaco\", \"Consolas\", \"Ubuntu Mono\", \"Source Code Pro\", monospace;\n",
       "    font-size: 13px;\n",
       "    color: #555;\n",
       "    margin-left: 4px;\n",
       "    line-height: 19px;\n",
       "  }\n",
       "</style>\n",
       "<div class=\"ansiout\">storageAccount: String = fmontes\n",
       "container: String = faviomontescontenedor\n",
       "sasKey: String = sv=2022-11-02&amp;ss=bfqt&amp;srt=sco&amp;sp=rwdlacupyx&amp;se=2024-05-30T15:47:40Z&amp;st=2024-05-22T07:47:40Z&amp;spr=https&amp;sig=6x1Is1dTHdUKDU%2FRGyzd95d05URi4mpaO6tYsD2m%2BNg%3D\n",
       "conf: String = fs.azure.sas.faviomontescontenedor.fmontes.blob.core.windows.net\n",
       "res25: Boolean = true\n",
       "</div>"
      ]
     },
     "metadata": {
      "application/vnd.databricks.v1+output": {
       "addedWidgets": {},
       "arguments": {},
       "data": "<div class=\"ansiout\">storageAccount: String = fmontes\ncontainer: String = faviomontescontenedor\nsasKey: String = sv=2022-11-02&amp;ss=bfqt&amp;srt=sco&amp;sp=rwdlacupyx&amp;se=2024-05-30T15:47:40Z&amp;st=2024-05-22T07:47:40Z&amp;spr=https&amp;sig=6x1Is1dTHdUKDU%2FRGyzd95d05URi4mpaO6tYsD2m%2BNg%3D\nconf: String = fs.azure.sas.faviomontescontenedor.fmontes.blob.core.windows.net\nres25: Boolean = true\n</div>",
       "datasetInfos": [],
       "metadata": {
        "isDbfsCommandResult": false
       },
       "removedWidgets": [],
       "type": "html"
      }
     },
     "output_type": "display_data"
    }
   ],
   "source": [
    "%scala\n",
    "\n",
    "var storageAccount= \"fmontes\"\n",
    "var container = \"faviomontescontenedor\"\n",
    "val sasKey = \"sv=2022-11-02&ss=bfqt&srt=sco&sp=rwdlacupyx&se=2024-05-30T15:47:40Z&st=2024-05-22T07:47:40Z&spr=https&sig=6x1Is1dTHdUKDU%2FRGyzd95d05URi4mpaO6tYsD2m%2BNg%3D\"\n",
    "\n",
    "val conf = \"fs.azure.sas.\" + container + \".\" + storageAccount + \".blob.core.windows.net\"\n",
    "\n",
    "dbutils.fs.mount(source=\"wasbs://\" + container + \"@\" + storageAccount + \".blob.core.windows.net\", mountPoint=\"/mnt/\" + container, extraConfigs = Map (conf -> sasKey))"
   ]
  },
  {
   "cell_type": "code",
   "execution_count": 0,
   "metadata": {
    "application/vnd.databricks.v1+cell": {
     "cellMetadata": {
      "byteLimit": 2048000,
      "rowLimit": 10000
     },
     "inputWidgets": {},
     "nuid": "3a50622b-7117-4b8a-9fda-f6103e6b3764",
     "showTitle": false,
     "title": ""
    }
   },
   "outputs": [
    {
     "output_type": "display_data",
     "data": {
      "text/html": [
       "<style scoped>\n",
       "  .table-result-container {\n",
       "    max-height: 300px;\n",
       "    overflow: auto;\n",
       "  }\n",
       "  table, th, td {\n",
       "    border: 1px solid black;\n",
       "    border-collapse: collapse;\n",
       "  }\n",
       "  th, td {\n",
       "    padding: 5px;\n",
       "  }\n",
       "  th {\n",
       "    text-align: left;\n",
       "  }\n",
       "</style><div class='table-result-container'><table class='table-result'><thead style='background-color: white'><tr><th>path</th><th>name</th><th>size</th><th>modificationTime</th></tr></thead><tbody><tr><td>dbfs:/mnt/faviomontescontenedor/proyectofinal/capabronce/Categoria.csv</td><td>Categoria.csv</td><td>72</td><td>1716359589000</td></tr><tr><td>dbfs:/mnt/faviomontescontenedor/proyectofinal/capabronce/Producto.csv</td><td>Producto.csv</td><td>13409</td><td>1716359589000</td></tr><tr><td>dbfs:/mnt/faviomontescontenedor/proyectofinal/capabronce/SubCategoria.csv</td><td>SubCategoria.csv</td><td>698</td><td>1716359592000</td></tr><tr><td>dbfs:/mnt/faviomontescontenedor/proyectofinal/capabronce/Sucursal.csv</td><td>Sucursal.csv</td><td>459</td><td>1716359589000</td></tr><tr><td>dbfs:/mnt/faviomontescontenedor/proyectofinal/capabronce/VentasInternet.csv</td><td>VentasInternet.csv</td><td>5387662</td><td>1716359589000</td></tr></tbody></table></div>"
      ]
     },
     "metadata": {
      "application/vnd.databricks.v1+output": {
       "addedWidgets": {},
       "aggData": [],
       "aggError": "",
       "aggOverflow": false,
       "aggSchema": [],
       "aggSeriesLimitReached": false,
       "aggType": "",
       "arguments": {},
       "columnCustomDisplayInfos": {},
       "data": [
        [
         "dbfs:/mnt/faviomontescontenedor/proyectofinal/capabronce/Categoria.csv",
         "Categoria.csv",
         72,
         1716359589000
        ],
        [
         "dbfs:/mnt/faviomontescontenedor/proyectofinal/capabronce/Producto.csv",
         "Producto.csv",
         13409,
         1716359589000
        ],
        [
         "dbfs:/mnt/faviomontescontenedor/proyectofinal/capabronce/SubCategoria.csv",
         "SubCategoria.csv",
         698,
         1716359592000
        ],
        [
         "dbfs:/mnt/faviomontescontenedor/proyectofinal/capabronce/Sucursal.csv",
         "Sucursal.csv",
         459,
         1716359589000
        ],
        [
         "dbfs:/mnt/faviomontescontenedor/proyectofinal/capabronce/VentasInternet.csv",
         "VentasInternet.csv",
         5387662,
         1716359589000
        ]
       ],
       "datasetInfos": [],
       "dbfsResultPath": null,
       "isJsonSchema": true,
       "metadata": {
        "isDbfsCommandResult": false
       },
       "overflow": false,
       "plotOptions": {
        "customPlotOptions": {},
        "displayType": "table",
        "pivotAggregation": null,
        "pivotColumns": null,
        "xColumns": null,
        "yColumns": null
       },
       "removedWidgets": [],
       "schema": [
        {
         "metadata": "{}",
         "name": "path",
         "type": "\"string\""
        },
        {
         "metadata": "{}",
         "name": "name",
         "type": "\"string\""
        },
        {
         "metadata": "{}",
         "name": "size",
         "type": "\"long\""
        },
        {
         "metadata": "{}",
         "name": "modificationTime",
         "type": "\"long\""
        }
       ],
       "type": "table"
      }
     },
     "output_type": "display_data"
    }
   ],
   "source": [
    "%fs ls /mnt/faviomontescontenedor/proyectofinal/capabronce/"
   ]
  },
  {
   "cell_type": "code",
   "execution_count": 0,
   "metadata": {
    "application/vnd.databricks.v1+cell": {
     "cellMetadata": {
      "byteLimit": 2048000,
      "rowLimit": 10000
     },
     "inputWidgets": {},
     "nuid": "50cd87f4-0d08-4f60-bab0-58fb50958ffb",
     "showTitle": false,
     "title": ""
    }
   },
   "outputs": [
    {
     "output_type": "stream",
     "name": "stdout",
     "output_type": "stream",
     "text": [
      "[Truncated to first 233 bytes]\n"
     ]
    },
    {
     "output_type": "execute_result",
     "data": {
      "text/plain": [
       "'Cod_Producto|Nombre|Cod_SubCategoria|Color\\r\\n212|Casco deportivo: 100, rojo|31|Red\\r\\n213|Casco deportivo: 100, rojo|31|Red\\r\\n214|Casco deportivo: 100, rojo|31|Red\\r\\n215|Casco deportivo: 100, negro|31|Black\\r\\n216|Casco deportivo: 100, negr'"
      ]
     },
     "execution_count": 82,
     "metadata": {},
     "output_type": "execute_result"
    }
   ],
   "source": [
    "dbutils.fs.head(\"/mnt/faviomontescontenedor/proyectofinal/capabronce/Producto.csv\",233)"
   ]
  },
  {
   "cell_type": "code",
   "execution_count": 0,
   "metadata": {
    "application/vnd.databricks.v1+cell": {
     "cellMetadata": {
      "byteLimit": 2048000,
      "rowLimit": 10000
     },
     "inputWidgets": {},
     "nuid": "672e0416-e263-4c88-b3d6-36d7e40ede96",
     "showTitle": false,
     "title": ""
    }
   },
   "outputs": [
    {
     "output_type": "execute_result",
     "data": {
      "text/plain": [
       "'Cod_Categoria,Nombre\\r\\n1,Bicicleta\\r\\n2,Componente\\r\\n3,Prenda\\r\\n4,Accesorio\\r\\n'"
      ]
     },
     "execution_count": 83,
     "metadata": {},
     "output_type": "execute_result"
    }
   ],
   "source": [
    "dbutils.fs.head(\"/mnt/faviomontescontenedor/proyectofinal/capabronce/Categoria.csv\")"
   ]
  },
  {
   "cell_type": "code",
   "execution_count": 0,
   "metadata": {
    "application/vnd.databricks.v1+cell": {
     "cellMetadata": {
      "byteLimit": 2048000,
      "rowLimit": 10000
     },
     "inputWidgets": {},
     "nuid": "96d31934-ce47-49af-8540-9dd286ea1ea8",
     "showTitle": false,
     "title": ""
    }
   },
   "outputs": [
    {
     "output_type": "execute_result",
     "data": {
      "text/plain": [
       "'Cod_SubCategoria,Nombre,Cod_Categoria\\r\\n1,Bicicleta de monta�a,1\\r\\n2,Bicicleta de carretera,1\\r\\n3,Bicicleta de paseo,1\\r\\n4,Barra,2\\r\\n5,Eje de pedalier,2\\r\\n6,Frenos,2\\r\\n7,Cadena,2\\r\\n8,Bielas,2\\r\\n9,Desviador,2\\r\\n10,Horquilla,2\\r\\n11,Direcci�n,2\\r\\n12,Cuadro de monta�a,2\\r\\n13,Pedal,2\\r\\n14,Cuadro de carretera,2\\r\\n15,Sill�n,2\\r\\n16,Cuadro de paseo,2\\r\\n17,Rueda,2\\r\\n18,Culote corto,3\\r\\n19,Gorra,3\\r\\n20,Guantes,3\\r\\n21,Jersey,3\\r\\n22,Pantalones cortos,3\\r\\n23,Calcetines,3\\r\\n24,Mallas,3\\r\\n25,Camiseta,3\\r\\n26,Portabicicletas,4\\r\\n27,Soporte para bicicletas,4\\r\\n28,Portabotellas y botella,4\\r\\n29,Limpiador,4\\r\\n30,Guardabarros,4\\r\\n31,Casco,4\\r\\n32,Sistema de hidrataci�n,4\\r\\n33,Luz,4\\r\\n34,Candado,4\\r\\n35,Cesta,4\\r\\n36,Bomba,4\\r\\n37,Cubierta y c�mara,4\\r\\n'"
      ]
     },
     "execution_count": 84,
     "metadata": {},
     "output_type": "execute_result"
    }
   ],
   "source": [
    "dbutils.fs.head(\"/mnt/faviomontescontenedor/proyectofinal/capabronce/SubCategoria.csv\")"
   ]
  },
  {
   "cell_type": "code",
   "execution_count": 0,
   "metadata": {
    "application/vnd.databricks.v1+cell": {
     "cellMetadata": {
      "byteLimit": 2048000,
      "implicitDf": true,
      "rowLimit": 10000
     },
     "inputWidgets": {},
     "nuid": "9269a8a0-6ed0-4832-9e7f-0b4b8d294cbd",
     "showTitle": false,
     "title": ""
    }
   },
   "outputs": [
    {
     "output_type": "display_data",
     "data": {
      "text/html": [
       "<style scoped>\n",
       "  .table-result-container {\n",
       "    max-height: 300px;\n",
       "    overflow: auto;\n",
       "  }\n",
       "  table, th, td {\n",
       "    border: 1px solid black;\n",
       "    border-collapse: collapse;\n",
       "  }\n",
       "  th, td {\n",
       "    padding: 5px;\n",
       "  }\n",
       "  th {\n",
       "    text-align: left;\n",
       "  }\n",
       "</style><div class='table-result-container'><table class='table-result'><thead style='background-color: white'><tr></tr></thead><tbody></tbody></table></div>"
      ]
     },
     "metadata": {
      "application/vnd.databricks.v1+output": {
       "addedWidgets": {},
       "aggData": [],
       "aggError": "",
       "aggOverflow": false,
       "aggSchema": [],
       "aggSeriesLimitReached": false,
       "aggType": "",
       "arguments": {},
       "columnCustomDisplayInfos": {},
       "data": [],
       "datasetInfos": [],
       "dbfsResultPath": null,
       "isJsonSchema": true,
       "metadata": {
        "dataframeName": null
       },
       "overflow": false,
       "plotOptions": {
        "customPlotOptions": {},
        "displayType": "table",
        "pivotAggregation": null,
        "pivotColumns": null,
        "xColumns": null,
        "yColumns": null
       },
       "removedWidgets": [],
       "schema": [],
       "type": "table"
      }
     },
     "output_type": "display_data"
    }
   ],
   "source": [
    "%sql\n",
    "\n",
    "DROP TABLE IF EXISTS Producto; --elimino tabla en caso existe\n",
    "CREATE TABLE Producto --creo tabla\n",
    "(Cod_Producto STRING, Nombre STRING, Cod_SubCategoria STRING, Color STRING)\n",
    "USING CSV\n",
    "OPTIONS (header 'true', inferSchema='true', delimiter='|')\n",
    "LOCATION  \"/mnt/faviomontescontenedor/proyectofinal/capabronce/Producto.csv\""
   ]
  },
  {
   "cell_type": "code",
   "execution_count": 0,
   "metadata": {
    "application/vnd.databricks.v1+cell": {
     "cellMetadata": {
      "byteLimit": 2048000,
      "implicitDf": true,
      "rowLimit": 10000
     },
     "inputWidgets": {},
     "nuid": "03e3db3d-3abd-4e37-bbfc-569e603d348b",
     "showTitle": false,
     "title": ""
    }
   },
   "outputs": [],
   "source": [
    "#Transformo archivo a parquet y lo deposito en la Capa Plata\n",
    "dfProd=spark.table(\"Producto\")\n",
    "dfProd.write.mode(\"overwrite\").parquet(\"/mnt/faviomontescontenedor/proyectofinal/capaplata/Producto.parquet\")"
   ]
  },
  {
   "cell_type": "code",
   "execution_count": 0,
   "metadata": {
    "application/vnd.databricks.v1+cell": {
     "cellMetadata": {
      "byteLimit": 2048000,
      "implicitDf": true,
      "rowLimit": 10000
     },
     "inputWidgets": {},
     "nuid": "47291bd7-9e5a-4fcd-a86a-98b250b674ee",
     "showTitle": false,
     "title": ""
    }
   },
   "outputs": [
    {
     "output_type": "display_data",
     "data": {
      "text/html": [
       "<style scoped>\n",
       "  .table-result-container {\n",
       "    max-height: 300px;\n",
       "    overflow: auto;\n",
       "  }\n",
       "  table, th, td {\n",
       "    border: 1px solid black;\n",
       "    border-collapse: collapse;\n",
       "  }\n",
       "  th, td {\n",
       "    padding: 5px;\n",
       "  }\n",
       "  th {\n",
       "    text-align: left;\n",
       "  }\n",
       "</style><div class='table-result-container'><table class='table-result'><thead style='background-color: white'><tr></tr></thead><tbody></tbody></table></div>"
      ]
     },
     "metadata": {
      "application/vnd.databricks.v1+output": {
       "addedWidgets": {},
       "aggData": [],
       "aggError": "",
       "aggOverflow": false,
       "aggSchema": [],
       "aggSeriesLimitReached": false,
       "aggType": "",
       "arguments": {},
       "columnCustomDisplayInfos": {},
       "data": [],
       "datasetInfos": [],
       "dbfsResultPath": null,
       "isJsonSchema": true,
       "metadata": {
        "dataframeName": null
       },
       "overflow": false,
       "plotOptions": {
        "customPlotOptions": {},
        "displayType": "table",
        "pivotAggregation": null,
        "pivotColumns": null,
        "xColumns": null,
        "yColumns": null
       },
       "removedWidgets": [],
       "schema": [],
       "type": "table"
      }
     },
     "output_type": "display_data"
    }
   ],
   "source": [
    "%sql\n",
    "DROP TABLE IF EXISTS Categoria; --elimino tabla en caso existe\n",
    "CREATE TABLE Categoria --creo tabla\n",
    "(Cod_Categoria STRING, Nombre STRING)\n",
    "USING CSV\n",
    "OPTIONS (header 'true', inferSchema='true', delimiter=',')\n",
    "LOCATION  \"/mnt/faviomontescontenedor/proyectofinal/capabronce/Categoria.csv\""
   ]
  },
  {
   "cell_type": "code",
   "execution_count": 0,
   "metadata": {
    "application/vnd.databricks.v1+cell": {
     "cellMetadata": {
      "byteLimit": 2048000,
      "rowLimit": 10000
     },
     "inputWidgets": {},
     "nuid": "cfff280f-d994-451c-ba01-ff45087922fd",
     "showTitle": false,
     "title": ""
    }
   },
   "outputs": [],
   "source": [
    "#Transformo archivo a parquet y lo deposito en la Capa Plata\n",
    "dfProd=spark.table(\"Categoria\")\n",
    "dfProd.write.mode(\"overwrite\").parquet(\"/mnt/faviomontescontenedor/proyectofinal/capaplata/Categoria.parquet\")"
   ]
  },
  {
   "cell_type": "code",
   "execution_count": 0,
   "metadata": {
    "application/vnd.databricks.v1+cell": {
     "cellMetadata": {
      "byteLimit": 2048000,
      "implicitDf": true,
      "rowLimit": 10000
     },
     "inputWidgets": {},
     "nuid": "0199b509-a13d-492f-aea6-f5777b1058fc",
     "showTitle": false,
     "title": ""
    }
   },
   "outputs": [
    {
     "output_type": "display_data",
     "data": {
      "text/html": [
       "<style scoped>\n",
       "  .table-result-container {\n",
       "    max-height: 300px;\n",
       "    overflow: auto;\n",
       "  }\n",
       "  table, th, td {\n",
       "    border: 1px solid black;\n",
       "    border-collapse: collapse;\n",
       "  }\n",
       "  th, td {\n",
       "    padding: 5px;\n",
       "  }\n",
       "  th {\n",
       "    text-align: left;\n",
       "  }\n",
       "</style><div class='table-result-container'><table class='table-result'><thead style='background-color: white'><tr></tr></thead><tbody></tbody></table></div>"
      ]
     },
     "metadata": {
      "application/vnd.databricks.v1+output": {
       "addedWidgets": {},
       "aggData": [],
       "aggError": "",
       "aggOverflow": false,
       "aggSchema": [],
       "aggSeriesLimitReached": false,
       "aggType": "",
       "arguments": {},
       "columnCustomDisplayInfos": {},
       "data": [],
       "datasetInfos": [],
       "dbfsResultPath": null,
       "isJsonSchema": true,
       "metadata": {
        "dataframeName": null
       },
       "overflow": false,
       "plotOptions": {
        "customPlotOptions": {},
        "displayType": "table",
        "pivotAggregation": null,
        "pivotColumns": null,
        "xColumns": null,
        "yColumns": null
       },
       "removedWidgets": [],
       "schema": [],
       "type": "table"
      }
     },
     "output_type": "display_data"
    }
   ],
   "source": [
    "%sql\n",
    "DROP TABLE IF EXISTS SubCategoria; --elimino tabla en caso existe\n",
    "CREATE TABLE SubCategoria --creo tabla\n",
    "(Cod_SubCategoria STRING, Nombre STRING,Cod_Categoria STRING)\n",
    "USING CSV\n",
    "OPTIONS (header 'true', inferSchema='true', delimiter=',')\n",
    "LOCATION  \"/mnt/faviomontescontenedor/proyectofinal/capabronce/Categoria.csv\""
   ]
  },
  {
   "cell_type": "code",
   "execution_count": 0,
   "metadata": {
    "application/vnd.databricks.v1+cell": {
     "cellMetadata": {
      "byteLimit": 2048000,
      "rowLimit": 10000
     },
     "inputWidgets": {},
     "nuid": "c991e6eb-6adc-437c-ab52-8a2dddb0746a",
     "showTitle": false,
     "title": ""
    }
   },
   "outputs": [],
   "source": [
    "#Transformo archivo a parquet y lo deposito en la Capa Plata\n",
    "dfProd=spark.table(\"SubCategoria\")\n",
    "dfProd.write.mode(\"overwrite\").parquet(\"/mnt/faviomontescontenedor/proyectofinal/capaplata/SubCategoria.parquet\")"
   ]
  },
  {
   "cell_type": "code",
   "execution_count": 0,
   "metadata": {
    "application/vnd.databricks.v1+cell": {
     "cellMetadata": {
      "byteLimit": 2048000,
      "rowLimit": 10000
     },
     "inputWidgets": {},
     "nuid": "2b980385-5146-4b2f-bda6-a53a0f75fbd3",
     "showTitle": false,
     "title": ""
    }
   },
   "outputs": [
    {
     "output_type": "stream",
     "name": "stdout",
     "output_type": "stream",
     "text": [
      "/mnt/faviomontescontenedor has been unmounted.\n"
     ]
    },
    {
     "output_type": "execute_result",
     "data": {
      "text/plain": [
       "True"
      ]
     },
     "execution_count": 88,
     "metadata": {},
     "output_type": "execute_result"
    }
   ],
   "source": [
    "#Eliminar acceso directo al contenedor \n",
    "dbutils.fs.unmount(\"/mnt/faviomontescontenedor\")"
   ]
  }
 ],
 "metadata": {
  "application/vnd.databricks.v1+notebook": {
   "dashboards": [],
   "environmentMetadata": null,
   "language": "python",
   "notebookMetadata": {
    "mostRecentlyExecutedCommandWithImplicitDF": {
     "commandId": 2723122347850666,
     "dataframes": [
      "_sqldf"
     ]
    },
    "pythonIndentUnit": 4
   },
   "notebookName": "Transferir datos de Capa Bronce hacia capa Plata",
   "widgets": {}
  }
 },
 "nbformat": 4,
 "nbformat_minor": 0
}
